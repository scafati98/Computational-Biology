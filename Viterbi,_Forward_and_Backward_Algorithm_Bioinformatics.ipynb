{
  "nbformat": 4,
  "nbformat_minor": 0,
  "metadata": {
    "kernelspec": {
      "display_name": "Python 3",
      "language": "python",
      "name": "python3"
    },
    "language_info": {
      "codemirror_mode": {
        "name": "ipython",
        "version": 3
      },
      "file_extension": ".py",
      "mimetype": "text/x-python",
      "name": "python",
      "nbconvert_exporter": "python",
      "pygments_lexer": "ipython3",
      "version": "3.7.1"
    },
    "colab": {
      "name": "Viterbi, Forward and Backward Algorithm - Bioinformatics.ipynb",
      "provenance": []
    }
  },
  "cells": [
    {
      "cell_type": "code",
      "metadata": {
        "id": "5ooWvc1ZdOZQ"
      },
      "source": [
        "import numpy as np\n",
        "import math as m"
      ],
      "execution_count": 1,
      "outputs": []
    },
    {
      "cell_type": "code",
      "metadata": {
        "id": "Irr2KYlLdOZX"
      },
      "source": [
        "alphabet = np.array(['A','C','T','G'])"
      ],
      "execution_count": 2,
      "outputs": []
    },
    {
      "cell_type": "code",
      "metadata": {
        "id": "62Eq_NNcdOZY"
      },
      "source": [
        "states = np.array([1, 2, 3])"
      ],
      "execution_count": 3,
      "outputs": []
    },
    {
      "cell_type": "code",
      "metadata": {
        "colab": {
          "base_uri": "https://localhost:8080/"
        },
        "id": "MnhYhXOYdOZY",
        "outputId": "c802da91-1862-4832-a97c-a875d6753e8a"
      },
      "source": [
        "#row number indicates the initial state \n",
        "#column indicates the final state\n",
        "transition_matrix = np.matrix([[0.6, 0.4, 0], \n",
        "                               [0.25, 0.5, 0.25], \n",
        "                               [0.25, 0.25, 0.5]])\n",
        "transition_matrix"
      ],
      "execution_count": 4,
      "outputs": [
        {
          "output_type": "execute_result",
          "data": {
            "text/plain": [
              "matrix([[0.6 , 0.4 , 0.  ],\n",
              "        [0.25, 0.5 , 0.25],\n",
              "        [0.25, 0.25, 0.5 ]])"
            ]
          },
          "metadata": {
            "tags": []
          },
          "execution_count": 4
        }
      ]
    },
    {
      "cell_type": "code",
      "metadata": {
        "colab": {
          "base_uri": "https://localhost:8080/"
        },
        "id": "RBRJciTwdOZa",
        "outputId": "e6685bdf-d6e2-435e-943d-91db0a02b5ab"
      },
      "source": [
        "#row number indicates the state\n",
        "#column goes ACTG - same order as alphabet\n",
        "emission_probabilities = np.matrix([[0.4, 0, 0.3, 0.3], \n",
        "                                    [0.1, 0.4, 0.1, 0.4], \n",
        "                                    [0.4, 0.3, 0.3, 0]])\n",
        "emission_probabilities"
      ],
      "execution_count": 5,
      "outputs": [
        {
          "output_type": "execute_result",
          "data": {
            "text/plain": [
              "matrix([[0.4, 0. , 0.3, 0.3],\n",
              "        [0.1, 0.4, 0.1, 0.4],\n",
              "        [0.4, 0.3, 0.3, 0. ]])"
            ]
          },
          "metadata": {
            "tags": []
          },
          "execution_count": 5
        }
      ]
    },
    {
      "cell_type": "code",
      "metadata": {
        "id": "atmK3vfHdOZb"
      },
      "source": [
        "sequence = np.array(['C','A','T','G','C','G','G','G','T','T','A','T','A','A','C'])"
      ],
      "execution_count": 6,
      "outputs": []
    },
    {
      "cell_type": "code",
      "metadata": {
        "id": "B5eeTvcAdOZb"
      },
      "source": [
        "#generate the sequence of states neglecting the 0 values\n",
        "def states_of_sequence():\n",
        "    seq_of_states = np.chararray(len(sequence), itemsize = 20, unicode = True)\n",
        "    for i in range(len(sequence)):\n",
        "        max_val = -10000\n",
        "        for j in range(len(states)):\n",
        "            if result_matrix[j, i] > max_val and result_matrix[j, i] !=0:\n",
        "                max_val = result_matrix[j, i]\n",
        "                if j == 0:\n",
        "                    seq_of_states[i] = 'Start Site signal'\n",
        "                elif j == 1:\n",
        "                    seq_of_states[i] = 'Exon'\n",
        "                else: seq_of_states[i] = 'Intron'\n",
        "    return print(seq_of_states)"
      ],
      "execution_count": 7,
      "outputs": []
    },
    {
      "cell_type": "code",
      "metadata": {
        "id": "iwU2_eEcdOZc"
      },
      "source": [
        "#Recognize the max value between each value of the previous column times its transition probability.\n",
        "#k is the column number of the selected cell, identify as the sequence.\n",
        "#s is the row number of the selected cell, identify as the state.\n",
        "def max_value(s, k):\n",
        "    max_v = np.zeros(len(states))\n",
        "    max_value = -100000000\n",
        "    for st in range(len(states)):\n",
        "        if transition_matrix[st ,s] == 0:\n",
        "            max_v[st] = result_matrix[st, k-1]              \n",
        "        else:\n",
        "            max_v[st] = result_matrix[st, k-1] + m.log(transition_matrix[st ,s])\n",
        "            \n",
        "        for i in range(len(max_v)):\n",
        "            if max_v[i] > max_value and max_v[i] != 0:\n",
        "                max_value = max_v[i]\n",
        "    return max_value"
      ],
      "execution_count": 8,
      "outputs": []
    },
    {
      "cell_type": "code",
      "metadata": {
        "colab": {
          "base_uri": "https://localhost:8080/"
        },
        "id": "R6-4O1yHdOZc",
        "outputId": "a51da314-8a23-494e-a28a-6802a5e596bc"
      },
      "source": [
        "#Viterbi algorithm formula\n",
        "#Creation of the result matrix plus sequence of states\n",
        "\n",
        "result_matrix = np.zeros((len(states), len(sequence)))\n",
        "for i in range (len(sequence)):\n",
        "    for j in range(len(alphabet)):\n",
        "        if sequence[i] == alphabet[j]:\n",
        "            for s in range(len(states)):\n",
        "                \n",
        "                #init\n",
        "                if i == 0:\n",
        "                    if emission_probabilities[s, j] == 0:\n",
        "                        result_matrix[s, i] = 0\n",
        "                    else:\n",
        "                        result_matrix[s, i] = m.log(1/3*emission_probabilities[s, j])\n",
        "                #end init\n",
        "                \n",
        "                else:\n",
        "                    if emission_probabilities[s, j] == 0:\n",
        "                        result_matrix[s, i] = max_value(s,i)\n",
        "                \n",
        "                    else:    \n",
        "                        result_matrix[s, i] = m.log(emission_probabilities[s, j]) + max_value(s,i)\n",
        "\n",
        "print('States: \\n')\n",
        "states_of_sequence()"
      ],
      "execution_count": 9,
      "outputs": [
        {
          "output_type": "stream",
          "text": [
            "States: \n",
            "\n",
            "['Exon' 'Start Site signal' 'Intron' 'Intron' 'Start Site signal' 'Intron'\n",
            " 'Intron' 'Intron' 'Intron' 'Intron' 'Intron' 'Intron' 'Intron' 'Intron'\n",
            " 'Start Site signal']\n"
          ],
          "name": "stdout"
        }
      ]
    },
    {
      "cell_type": "markdown",
      "metadata": {
        "id": "mL7NZv9wdOZd"
      },
      "source": [
        "### Forward algorithm to compute the probability of the sequence"
      ]
    },
    {
      "cell_type": "code",
      "metadata": {
        "id": "7x_PDtm3dOZe"
      },
      "source": [
        "def sum_value(s, k):\n",
        "    sum_v = np.zeros(len(states))\n",
        "    sum_value = 0\n",
        "    for st in range(len(states)):\n",
        "        sum_v[st] = result_matrix_fow[st, k-1] * transition_matrix[st ,s]\n",
        "            \n",
        "        for i in range(len(sum_v)):\n",
        "            sum_value += sum_v[i]\n",
        "    return sum_value"
      ],
      "execution_count": 10,
      "outputs": []
    },
    {
      "cell_type": "code",
      "metadata": {
        "id": "mlYdY9kddOZe"
      },
      "source": [
        "#Computing the probability of the sequence using the forward algorithm\n",
        "\n",
        "result_matrix_fow = np.zeros((len(states), len(sequence)))\n",
        "for i in range (len(sequence)):\n",
        "    for j in range(len(alphabet)):\n",
        "        if sequence[i] == alphabet[j]:\n",
        "            for s in range(len(states)):\n",
        "                #init\n",
        "                if i == 0:\n",
        "                    result_matrix_fow[s, i] = 1/3*emission_probabilities[s, j]  \n",
        "                #end init\n",
        "                \n",
        "                else:\n",
        "                    result_matrix_fow[s, i] = emission_probabilities[s, j]*sum_value(s,i)              \n"
      ],
      "execution_count": 11,
      "outputs": []
    },
    {
      "cell_type": "code",
      "metadata": {
        "colab": {
          "base_uri": "https://localhost:8080/"
        },
        "id": "kvqX0onYdOZf",
        "outputId": "021ec39e-fce2-4404-b6a7-5908f1d15bfd"
      },
      "source": [
        "#Probability of the sequence\n",
        "#sum of the last column times its ending transition probability to have the prob of the sequence\n",
        "Ps = 0\n",
        "for i in range(len(states)):\n",
        "    Ps += result_matrix_fow[i, len(sequence)-1]*(1/3)\n",
        "     \n",
        "\n",
        "print('The probability of the sequence {} is: '.format(sequence),'\\n', Ps)"
      ],
      "execution_count": 12,
      "outputs": [
        {
          "output_type": "stream",
          "text": [
            "The probability of the sequence ['C' 'A' 'T' 'G' 'C' 'G' 'G' 'G' 'T' 'T' 'A' 'T' 'A' 'A' 'C'] is:  \n",
            " 4.132995015560347e-05\n"
          ],
          "name": "stdout"
        }
      ]
    },
    {
      "cell_type": "markdown",
      "metadata": {
        "id": "tgY6aVKZdOZf"
      },
      "source": [
        "#### POSTERIOR PROBABILITIES"
      ]
    },
    {
      "cell_type": "markdown",
      "metadata": {
        "id": "rcyoAANsdOZf"
      },
      "source": [
        "#### Backward algorithm to compute the posterior probability"
      ]
    },
    {
      "cell_type": "code",
      "metadata": {
        "id": "W-0_oQvTdOZg"
      },
      "source": [
        "#Backward\n",
        "result_matrix_back = np.zeros((len(states), len(sequence)))\n",
        "for i in range(len(states)):\n",
        "    result_matrix_back[i, len(sequence)-1] = 1\n",
        "\n",
        "\n",
        "for i in reversed(range(len(sequence))):\n",
        "    if i > 0:\n",
        "        for j in range(len(alphabet)):\n",
        "            if sequence[i] == alphabet[j]:\n",
        "                for s in range(len(states)):\n",
        "                    sum_v = np.zeros(len(states))\n",
        "                    sum_value = 0\n",
        "                    for st in range(len(states)):\n",
        "                        sum_v[st] = result_matrix_back[st, i] * emission_probabilities[st, j] * transition_matrix[s, st]\n",
        "                        sum_value += sum_v[st]\n",
        "                    result_matrix_back[s, i-1] = sum_value\n",
        "                        \n",
        "#print(result_matrix_back[:,len(sequence)-1])"
      ],
      "execution_count": 13,
      "outputs": []
    },
    {
      "cell_type": "code",
      "metadata": {
        "colab": {
          "base_uri": "https://localhost:8080/"
        },
        "id": "DwBHVzkXdOZg",
        "outputId": "833cd277-77ed-4763-958a-cedd8738a14b"
      },
      "source": [
        "print('P(π2=k|x)')\n",
        "for k in range(len(states)):\n",
        "    print('For state {}:'.format(k+1), result_matrix_fow[k, 1]*\n",
        "                                       result_matrix_back[k, 1]/Ps)\n",
        "print('Max probability is from state 3')\n",
        "print('\\n')\n",
        "\n",
        "print('P(π9=k|x)')\n",
        "for k in range(len(states)):\n",
        "    print('For state {}:'.format(k+1),result_matrix_fow[k, 8]*\n",
        "                                       result_matrix_back[k, 8]/Ps)\n",
        "print('Max probability is from state 1')"
      ],
      "execution_count": 14,
      "outputs": [
        {
          "output_type": "stream",
          "text": [
            "P(π2=k|x)\n",
            "For state 1: 1.444939357213058e-05\n",
            "For state 2: 4.632013298321101e-06\n",
            "For state 3: 1.5167986014460881e-05\n",
            "Max probability is from state 3\n",
            "\n",
            "\n",
            "P(π9=k|x)\n",
            "For state 1: 0.005936928166244834\n",
            "For state 2: 0.002227949998865663\n",
            "For state 3: 0.002469208041688804\n",
            "Max probability is from state 1\n"
          ],
          "name": "stdout"
        }
      ]
    },
    {
      "cell_type": "code",
      "metadata": {
        "id": "w5TV8_IfdZR_"
      },
      "source": [
        ""
      ],
      "execution_count": null,
      "outputs": []
    }
  ]
}